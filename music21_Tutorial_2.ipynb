{
 "cells": [
  {
   "cell_type": "code",
   "execution_count": 6,
   "metadata": {},
   "outputs": [],
   "source": [
    "import music21\n",
    "from music21 import *\n",
    "import librosa"
   ]
  },
  {
   "cell_type": "code",
   "execution_count": 2,
   "metadata": {},
   "outputs": [
    {
     "name": "stdout",
     "output_type": "stream",
     "text": [
      "D 1 OverallDynamicRangeFeature (not implemented)\n",
      "D 2 VariationOfDynamicsFeature (not implemented)\n",
      "D 3 VariationOfDynamicsInEachVoiceFeature (not implemented)\n",
      "D 4 AverageNoteToNoteDynamicsChangeFeature (not implemented)\n",
      "I 1 PitchedInstrumentsPresentFeature\n",
      "I 2 UnpitchedInstrumentsPresentFeature (not implemented)\n",
      "I 3 NotePrevalenceOfPitchedInstrumentsFeature\n",
      "I 4 NotePrevalenceOfUnpitchedInstrumentsFeature (not implemented)\n",
      "I 5 TimePrevalenceOfPitchedInstrumentsFeature (not implemented)\n",
      "I 6 VariabilityOfNotePrevalenceOfPitchedInstrumentsFeature\n",
      "I 7 VariabilityOfNotePrevalenceOfUnpitchedInstrumentsFeature (not implemented)\n",
      "I 8 NumberOfPitchedInstrumentsFeature\n",
      "I 9 NumberOfUnpitchedInstrumentsFeature (not implemented)\n",
      "I 10 PercussionPrevalenceFeature (not implemented)\n",
      "I 11 StringKeyboardFractionFeature\n",
      "I 12 AcousticGuitarFractionFeature\n",
      "I 13 ElectricGuitarFractionFeature\n",
      "I 14 ViolinFractionFeature\n",
      "I 15 SaxophoneFractionFeature\n",
      "I 16 BrassFractionFeature\n",
      "I 17 WoodwindsFractionFeature\n",
      "I 18 OrchestralStringsFractionFeature\n",
      "I 19 StringEnsembleFractionFeature\n",
      "I 20 ElectricInstrumentFractionFeature\n",
      "M 1 MelodicIntervalHistogramFeature\n",
      "M 2 AverageMelodicIntervalFeature\n",
      "M 3 MostCommonMelodicIntervalFeature\n",
      "M 4 DistanceBetweenMostCommonMelodicIntervalsFeature\n",
      "M 5 MostCommonMelodicIntervalPrevalenceFeature\n",
      "M 6 RelativeStrengthOfMostCommonIntervalsFeature\n",
      "M 7 NumberOfCommonMelodicIntervalsFeature\n",
      "M 8 AmountOfArpeggiationFeature\n",
      "M 9 RepeatedNotesFeature\n",
      "M 10 ChromaticMotionFeature\n",
      "M 11 StepwiseMotionFeature\n",
      "M 12 MelodicThirdsFeature\n",
      "M 13 MelodicFifthsFeature\n",
      "M 14 MelodicTritonesFeature\n",
      "M 15 MelodicOctavesFeature\n",
      "M 17 DirectionOfMotionFeature\n",
      "M 18 DurationOfMelodicArcsFeature\n",
      "M 19 SizeOfMelodicArcsFeature\n",
      "P 1 MostCommonPitchPrevalenceFeature\n",
      "P 2 MostCommonPitchClassPrevalenceFeature\n",
      "P 3 RelativeStrengthOfTopPitchesFeature\n",
      "P 4 RelativeStrengthOfTopPitchClassesFeature\n",
      "P 5 IntervalBetweenStrongestPitchesFeature\n",
      "P 6 IntervalBetweenStrongestPitchClassesFeature\n",
      "P 7 NumberOfCommonPitchesFeature\n",
      "P 8 PitchVarietyFeature\n",
      "P 9 PitchClassVarietyFeature\n",
      "P 10 RangeFeature\n",
      "P 11 MostCommonPitchFeature\n",
      "P 12 PrimaryRegisterFeature\n",
      "P 13 ImportanceOfBassRegisterFeature\n",
      "P 14 ImportanceOfMiddleRegisterFeature\n",
      "P 15 ImportanceOfHighRegisterFeature\n",
      "P 16 MostCommonPitchClassFeature\n",
      "P 17 DominantSpreadFeature (not implemented)\n",
      "P 18 StrongTonalCentresFeature (not implemented)\n",
      "P 19 BasicPitchHistogramFeature\n",
      "P 20 PitchClassDistributionFeature\n",
      "P 21 FifthsPitchHistogramFeature\n",
      "P 22 QualityFeature\n",
      "P 23 GlissandoPrevalenceFeature (not implemented)\n",
      "P 24 AverageRangeOfGlissandosFeature (not implemented)\n",
      "P 25 VibratoPrevalenceFeature (not implemented)\n",
      "R 1 StrongestRhythmicPulseFeature (not implemented)\n",
      "R 2 SecondStrongestRhythmicPulseFeature (not implemented)\n",
      "R 3 HarmonicityOfTwoStrongestRhythmicPulsesFeature (not implemented)\n",
      "R 4 StrengthOfStrongestRhythmicPulseFeature (not implemented)\n",
      "R 5 StrengthOfSecondStrongestRhythmicPulseFeature (not implemented)\n",
      "R 6 StrengthRatioOfTwoStrongestRhythmicPulsesFeature (not implemented)\n",
      "R 7 CombinedStrengthOfTwoStrongestRhythmicPulsesFeature (not implemented)\n",
      "R 8 NumberOfStrongPulsesFeature (not implemented)\n",
      "R 9 NumberOfModeratePulsesFeature (not implemented)\n",
      "R 10 NumberOfRelativelyStrongPulsesFeature (not implemented)\n",
      "R 11 RhythmicLoosenessFeature (not implemented)\n",
      "R 12 PolyrhythmsFeature (not implemented)\n",
      "R 13 RhythmicVariabilityFeature (not implemented)\n",
      "R 14 BeatHistogramFeature (not implemented)\n",
      "R 15 NoteDensityFeature\n",
      "R 17 AverageNoteDurationFeature\n",
      "R 18 VariabilityOfNoteDurationFeature\n",
      "R 19 MaximumNoteDurationFeature\n",
      "R 20 MinimumNoteDurationFeature\n",
      "R 21 StaccatoIncidenceFeature\n",
      "R 22 AverageTimeBetweenAttacksFeature\n",
      "R 23 VariabilityOfTimeBetweenAttacksFeature\n",
      "R 24 AverageTimeBetweenAttacksForEachVoiceFeature\n",
      "R 25 AverageVariabilityOfTimeBetweenAttacksForEachVoiceFeature\n",
      "R 30 InitialTempoFeature\n",
      "R 31 InitialTimeSignatureFeature\n",
      "R 32 CompoundOrSimpleMeterFeature\n",
      "R 33 TripleMeterFeature\n",
      "R 34 QuintupleMeterFeature\n",
      "R 35 ChangesOfMeterFeature\n",
      "R 36 DurationFeature\n",
      "T 1 MaximumNumberOfIndependentVoicesFeature\n",
      "T 2 AverageNumberOfIndependentVoicesFeature\n",
      "T 3 VariabilityOfNumberOfIndependentVoicesFeature\n",
      "T 4 VoiceEqualityNumberOfNotesFeature (not implemented)\n",
      "T 5 VoiceEqualityNoteDurationFeature (not implemented)\n",
      "T 6 VoiceEqualityDynamicsFeature (not implemented)\n",
      "T 7 VoiceEqualityMelodicLeapsFeature (not implemented)\n",
      "T 8 VoiceEqualityRangeFeature (not implemented)\n",
      "T 9 ImportanceOfLoudestVoiceFeature (not implemented)\n",
      "T 10 RelativeRangeOfLoudestVoiceFeature (not implemented)\n",
      "T 12 RangeOfHighestLineFeature (not implemented)\n",
      "T 13 RelativeNoteDensityOfHighestLineFeature (not implemented)\n",
      "T 15 MelodicIntervalsInLowestLineFeature (not implemented)\n",
      "T 20 VoiceSeparationFeature (not implemented)\n"
     ]
    }
   ],
   "source": [
    "fs = features.jSymbolic.extractorsById\n",
    "for k in fs:\n",
    "        for i in range(len(fs[k])):\n",
    "          if fs[k][i] is not None:\n",
    "            n = fs[k][i].__name__\n",
    "            if fs[k][i] not in features.jSymbolic.featureExtractors:\n",
    "               n += ' (not implemented)'\n",
    "            print('%s %d %s' % (k, i, n))"
   ]
  },
  {
   "cell_type": "code",
   "execution_count": 3,
   "metadata": {},
   "outputs": [
    {
     "name": "stdout",
     "output_type": "stream",
     "text": [
      "<music21.stream.Score 0x7ff01c084320>\n"
     ]
    },
    {
     "data": {
      "text/plain": [
       "[0.05660377358490566]"
      ]
     },
     "execution_count": 3,
     "metadata": {},
     "output_type": "execute_result"
    }
   ],
   "source": [
    "s = corpus.parse('bwv66.6')\n",
    "fe = features.jSymbolic.MelodicFifthsFeature(s)\n",
    "f = fe.extract()\n",
    "f.vector"
   ]
  },
  {
   "cell_type": "code",
   "execution_count": 13,
   "metadata": {},
   "outputs": [],
   "source": [
    "p = 'audio/etc/file.mp3'\n",
    "y, sr = librosa.load(p, duration=10, offset=35)\n",
    "librosa.output.write_wav('audio/etc/file_trim_10s.wav', y, sr)"
   ]
  },
  {
   "cell_type": "code",
   "execution_count": 24,
   "metadata": {},
   "outputs": [
    {
     "data": {
      "text/plain": [
       "[0.0]"
      ]
     },
     "execution_count": 24,
     "metadata": {},
     "output_type": "execute_result"
    }
   ],
   "source": [
    "s = converter.parse('audio/etc/file_trim_10s.wav.mid')\n",
    "fe = features.jSymbolic.MelodicFifthsFeature(s)\n",
    "f = fe.extract()\n",
    "f.vector"
   ]
  },
  {
   "cell_type": "code",
   "execution_count": 10,
   "metadata": {},
   "outputs": [],
   "source": []
  },
  {
   "cell_type": "code",
   "execution_count": 14,
   "metadata": {},
   "outputs": [],
   "source": []
  },
  {
   "cell_type": "code",
   "execution_count": null,
   "metadata": {},
   "outputs": [],
   "source": []
  },
  {
   "cell_type": "code",
   "execution_count": 15,
   "metadata": {},
   "outputs": [],
   "source": []
  },
  {
   "cell_type": "code",
   "execution_count": 16,
   "metadata": {},
   "outputs": [
    {
     "data": {
      "text/plain": [
       "[0.0]"
      ]
     },
     "execution_count": 16,
     "metadata": {},
     "output_type": "execute_result"
    }
   ],
   "source": []
  },
  {
   "cell_type": "code",
   "execution_count": 30,
   "metadata": {},
   "outputs": [
    {
     "data": {
      "text/plain": [
       "1"
      ]
     },
     "execution_count": 30,
     "metadata": {},
     "output_type": "execute_result"
    }
   ],
   "source": [
    "fe.dimensions"
   ]
  },
  {
   "cell_type": "code",
   "execution_count": 17,
   "metadata": {},
   "outputs": [
    {
     "data": {
      "text/plain": [
       "<music21.features.base.DataInstance at 0x7feecb8ad208>"
      ]
     },
     "execution_count": 17,
     "metadata": {},
     "output_type": "execute_result"
    }
   ],
   "source": [
    "fe.data"
   ]
  },
  {
   "cell_type": "code",
   "execution_count": 18,
   "metadata": {},
   "outputs": [
    {
     "data": {
      "text/plain": [
       "['Melodic_Fifths']"
      ]
     },
     "execution_count": 18,
     "metadata": {},
     "output_type": "execute_result"
    }
   ],
   "source": [
    "fe.getAttributeLabels()"
   ]
  },
  {
   "cell_type": "code",
   "execution_count": 19,
   "metadata": {},
   "outputs": [],
   "source": [
    "fe.prepareFeature()"
   ]
  },
  {
   "cell_type": "code",
   "execution_count": 20,
   "metadata": {},
   "outputs": [
    {
     "data": {
      "text/plain": [
       "'Melodic Fifths'"
      ]
     },
     "execution_count": 20,
     "metadata": {},
     "output_type": "execute_result"
    }
   ],
   "source": [
    "fe.feature.name"
   ]
  },
  {
   "cell_type": "code",
   "execution_count": 21,
   "metadata": {},
   "outputs": [
    {
     "data": {
      "text/plain": [
       "1"
      ]
     },
     "execution_count": 21,
     "metadata": {},
     "output_type": "execute_result"
    }
   ],
   "source": [
    "fe.feature.dimensions"
   ]
  },
  {
   "cell_type": "code",
   "execution_count": 22,
   "metadata": {},
   "outputs": [
    {
     "data": {
      "text/plain": [
       "[0]"
      ]
     },
     "execution_count": 22,
     "metadata": {},
     "output_type": "execute_result"
    }
   ],
   "source": [
    "fe.feature.vector"
   ]
  },
  {
   "cell_type": "code",
   "execution_count": 23,
   "metadata": {},
   "outputs": [],
   "source": [
    "fe.process()"
   ]
  },
  {
   "cell_type": "code",
   "execution_count": null,
   "metadata": {},
   "outputs": [],
   "source": []
  }
 ],
 "metadata": {
  "kernelspec": {
   "display_name": "Python 3",
   "language": "python",
   "name": "python3"
  },
  "language_info": {
   "codemirror_mode": {
    "name": "ipython",
    "version": 3
   },
   "file_extension": ".py",
   "mimetype": "text/x-python",
   "name": "python",
   "nbconvert_exporter": "python",
   "pygments_lexer": "ipython3",
   "version": "3.6.6"
  }
 },
 "nbformat": 4,
 "nbformat_minor": 2
}

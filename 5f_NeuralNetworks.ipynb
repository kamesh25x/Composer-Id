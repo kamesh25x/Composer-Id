{
 "cells": [
  {
   "cell_type": "code",
   "execution_count": 1,
   "metadata": {},
   "outputs": [],
   "source": [
    "%matplotlib inline\n",
    "import seaborn\n",
    "import matplotlib.pyplot as plt\n",
    "plt.rcParams['figure.figsize'] = (14, 6)"
   ]
  },
  {
   "cell_type": "code",
   "execution_count": 2,
   "metadata": {
    "scrolled": true
   },
   "outputs": [
    {
     "name": "stderr",
     "output_type": "stream",
     "text": [
      "Using Theano backend.\n"
     ]
    }
   ],
   "source": [
    "import librosa, IPython.display as ipd\n",
    "import scipy, theano as th, time, keras\n",
    "from scipy.special import expit"
   ]
  },
  {
   "cell_type": "code",
   "execution_count": 20,
   "metadata": {},
   "outputs": [
    {
     "ename": "ImportError",
     "evalue": "cannot import name 'AutoEncoder'",
     "output_type": "error",
     "traceback": [
      "\u001b[0;31m---------------------------------------------------------------------------\u001b[0m",
      "\u001b[0;31mImportError\u001b[0m                               Traceback (most recent call last)",
      "\u001b[0;32m<ipython-input-20-7269f10bdead>\u001b[0m in \u001b[0;36m<module>\u001b[0;34m()\u001b[0m\n\u001b[1;32m      1\u001b[0m \u001b[0;32mfrom\u001b[0m \u001b[0mkeras\u001b[0m\u001b[0;34m.\u001b[0m\u001b[0mmodels\u001b[0m \u001b[0;32mimport\u001b[0m \u001b[0mSequential\u001b[0m\u001b[0;34m\u001b[0m\u001b[0m\n\u001b[1;32m      2\u001b[0m \u001b[0;32mfrom\u001b[0m \u001b[0mkeras\u001b[0m\u001b[0;34m.\u001b[0m\u001b[0mlayers\u001b[0m\u001b[0;34m.\u001b[0m\u001b[0mcore\u001b[0m \u001b[0;32mimport\u001b[0m \u001b[0mDense\u001b[0m\u001b[0;34m,\u001b[0m \u001b[0mActivation\u001b[0m\u001b[0;34m,\u001b[0m \u001b[0mDropout\u001b[0m\u001b[0;34m\u001b[0m\u001b[0m\n\u001b[0;32m----> 3\u001b[0;31m \u001b[0;32mfrom\u001b[0m \u001b[0mkeras\u001b[0m\u001b[0;34m.\u001b[0m\u001b[0mlayers\u001b[0m\u001b[0;34m.\u001b[0m\u001b[0mcore\u001b[0m \u001b[0;32mimport\u001b[0m \u001b[0mAutoEncoder\u001b[0m\u001b[0;34m\u001b[0m\u001b[0m\n\u001b[0m\u001b[1;32m      4\u001b[0m \u001b[0;32mfrom\u001b[0m \u001b[0mkeras\u001b[0m\u001b[0;34m.\u001b[0m\u001b[0mlayers\u001b[0m \u001b[0;32mimport\u001b[0m \u001b[0mcontainers\u001b[0m\u001b[0;34m\u001b[0m\u001b[0m\n\u001b[1;32m      5\u001b[0m \u001b[0;32mfrom\u001b[0m \u001b[0mkeras\u001b[0m\u001b[0;34m.\u001b[0m\u001b[0mlayers\u001b[0m\u001b[0;34m.\u001b[0m\u001b[0mnoise\u001b[0m \u001b[0;32mimport\u001b[0m \u001b[0mGaussianNoise\u001b[0m\u001b[0;34m\u001b[0m\u001b[0m\n",
      "\u001b[0;31mImportError\u001b[0m: cannot import name 'AutoEncoder'"
     ]
    }
   ],
   "source": [
    "from keras.models import Sequential\n",
    "from keras.layers.core import Dense, Activation, Dropout\n",
    "#from keras.layers.core import AutoEncoder\n",
    "#from keras.layers import containers\n",
    "from keras.layers.noise import GaussianNoise\n",
    "import keras.optimizers"
   ]
  },
  {
   "cell_type": "code",
   "execution_count": 4,
   "metadata": {
    "scrolled": true
   },
   "outputs": [],
   "source": [
    "model = Sequential()\n",
    "model.add(Dense(input_dim=2, activation='relu', units=4))\n",
    "model.add(Dense(activation='relu', units=4))\n",
    "model.add(Dense(activation='softmax', units=2))"
   ]
  },
  {
   "cell_type": "code",
   "execution_count": 5,
   "metadata": {},
   "outputs": [],
   "source": [
    "optimizer = keras.optimizers.SGD(lr=0.01, momentum=0.9, nesterov=True, decay=1e-3)"
   ]
  },
  {
   "cell_type": "code",
   "execution_count": 6,
   "metadata": {},
   "outputs": [],
   "source": [
    "model.compile(loss='binary_crossentropy', optimizer=optimizer)"
   ]
  },
  {
   "cell_type": "code",
   "execution_count": 7,
   "metadata": {},
   "outputs": [
    {
     "name": "stdout",
     "output_type": "stream",
     "text": [
      "(1000, 2)\n"
     ]
    }
   ],
   "source": [
    "X_train = scipy.randn(1000, 2)\n",
    "print( X_train.shape)"
   ]
  },
  {
   "cell_type": "code",
   "execution_count": 8,
   "metadata": {},
   "outputs": [
    {
     "name": "stdout",
     "output_type": "stream",
     "text": [
      "[[ 0.03204372 -0.16148875]\n",
      " [ 1.03683506 -0.0533908 ]\n",
      " [ 0.90922367  0.53354662]\n",
      " [-0.32963378 -1.07901184]\n",
      " [-2.29816336 -0.75850796]]\n"
     ]
    }
   ],
   "source": [
    "print (X_train[:5])"
   ]
  },
  {
   "cell_type": "code",
   "execution_count": 9,
   "metadata": {},
   "outputs": [
    {
     "name": "stdout",
     "output_type": "stream",
     "text": [
      "(1000, 2)\n"
     ]
    }
   ],
   "source": [
    "y_train = scipy.array([\n",
    "    [float(x[0]*x[1] > 0), float(x[0]*x[1] <= 0)]\n",
    "    for x in X_train\n",
    "])\n",
    "print (y_train.shape)"
   ]
  },
  {
   "cell_type": "code",
   "execution_count": 10,
   "metadata": {},
   "outputs": [
    {
     "data": {
      "text/plain": [
       "array([[0., 1.],\n",
       "       [0., 1.],\n",
       "       [1., 0.],\n",
       "       [1., 0.],\n",
       "       [1., 0.]])"
      ]
     },
     "execution_count": 10,
     "metadata": {},
     "output_type": "execute_result"
    }
   ],
   "source": [
    "y_train[:5]"
   ]
  },
  {
   "cell_type": "code",
   "execution_count": 11,
   "metadata": {},
   "outputs": [
    {
     "data": {
      "text/plain": [
       "<matplotlib.collections.PathCollection at 0x7fa01b3b0160>"
      ]
     },
     "execution_count": 11,
     "metadata": {},
     "output_type": "execute_result"
    },
    {
     "data": {
      "image/png": "[encoded data removed]",
      "text/plain": [
       "<Figure size 432x288 with 1 Axes>"
      ]
     },
     "metadata": {},
     "output_type": "display_data"
    }
   ],
   "source": [
    "plt.scatter(X_train[y_train[:,0]>0.5,0], X_train[y_train[:,0]>0.5,1], c='r')\n",
    "plt.scatter(X_train[y_train[:,1]>0.5,0], X_train[y_train[:,1]>0.5,1], c='b')"
   ]
  },
  {
   "cell_type": "code",
   "execution_count": 12,
   "metadata": {},
   "outputs": [
    {
     "name": "stdout",
     "output_type": "stream",
     "text": [
      "Epoch 1/50\n",
      "1000/1000 [==============================] - 0s 122us/step - loss: 0.7281\n",
      "Epoch 2/50\n",
      "1000/1000 [==============================] - 0s 48us/step - loss: 0.6760\n",
      "Epoch 3/50\n",
      "1000/1000 [==============================] - 0s 50us/step - loss: 0.6306\n",
      "Epoch 4/50\n",
      "1000/1000 [==============================] - 0s 45us/step - loss: 0.5720\n",
      "Epoch 5/50\n",
      "1000/1000 [==============================] - 0s 44us/step - loss: 0.5289\n",
      "Epoch 6/50\n",
      "1000/1000 [==============================] - 0s 51us/step - loss: 0.5006\n",
      "Epoch 7/50\n",
      "1000/1000 [==============================] - 0s 54us/step - loss: 0.4838\n",
      "Epoch 8/50\n",
      "1000/1000 [==============================] - 0s 61us/step - loss: 0.4686\n",
      "Epoch 9/50\n",
      "1000/1000 [==============================] - 0s 44us/step - loss: 0.4603\n",
      "Epoch 10/50\n",
      "1000/1000 [==============================] - 0s 44us/step - loss: 0.4535\n",
      "Epoch 11/50\n",
      "1000/1000 [==============================] - 0s 46us/step - loss: 0.4481\n",
      "Epoch 12/50\n",
      "1000/1000 [==============================] - 0s 45us/step - loss: 0.4435\n",
      "Epoch 13/50\n",
      "1000/1000 [==============================] - 0s 45us/step - loss: 0.4382\n",
      "Epoch 14/50\n",
      "1000/1000 [==============================] - 0s 44us/step - loss: 0.4307\n",
      "Epoch 15/50\n",
      "1000/1000 [==============================] - 0s 45us/step - loss: 0.4311\n",
      "Epoch 16/50\n",
      "1000/1000 [==============================] - 0s 49us/step - loss: 0.4191\n",
      "Epoch 17/50\n",
      "1000/1000 [==============================] - 0s 43us/step - loss: 0.4078\n",
      "Epoch 18/50\n",
      "1000/1000 [==============================] - 0s 41us/step - loss: 0.3771\n",
      "Epoch 19/50\n",
      "1000/1000 [==============================] - 0s 39us/step - loss: 0.3379\n",
      "Epoch 20/50\n",
      "1000/1000 [==============================] - 0s 40us/step - loss: 0.2955\n",
      "Epoch 21/50\n",
      "1000/1000 [==============================] - 0s 40us/step - loss: 0.2527\n",
      "Epoch 22/50\n",
      "1000/1000 [==============================] - 0s 40us/step - loss: 0.2162\n",
      "Epoch 23/50\n",
      "1000/1000 [==============================] - 0s 42us/step - loss: 0.1863\n",
      "Epoch 24/50\n",
      "1000/1000 [==============================] - 0s 41us/step - loss: 0.1661\n",
      "Epoch 25/50\n",
      "1000/1000 [==============================] - 0s 43us/step - loss: 0.1525\n",
      "Epoch 26/50\n",
      "1000/1000 [==============================] - 0s 43us/step - loss: 0.1452\n",
      "Epoch 27/50\n",
      "1000/1000 [==============================] - 0s 40us/step - loss: 0.1337\n",
      "Epoch 28/50\n",
      "1000/1000 [==============================] - 0s 40us/step - loss: 0.1266\n",
      "Epoch 29/50\n",
      "1000/1000 [==============================] - 0s 41us/step - loss: 0.1217\n",
      "Epoch 30/50\n",
      "1000/1000 [==============================] - 0s 40us/step - loss: 0.1168\n",
      "Epoch 31/50\n",
      "1000/1000 [==============================] - 0s 40us/step - loss: 0.1124\n",
      "Epoch 32/50\n",
      "1000/1000 [==============================] - 0s 41us/step - loss: 0.1086\n",
      "Epoch 33/50\n",
      "1000/1000 [==============================] - 0s 44us/step - loss: 0.1032\n",
      "Epoch 34/50\n",
      "1000/1000 [==============================] - 0s 46us/step - loss: 0.0987\n",
      "Epoch 35/50\n",
      "1000/1000 [==============================] - 0s 44us/step - loss: 0.0978\n",
      "Epoch 36/50\n",
      "1000/1000 [==============================] - 0s 57us/step - loss: 0.0976\n",
      "Epoch 37/50\n",
      "1000/1000 [==============================] - 0s 45us/step - loss: 0.0926\n",
      "Epoch 38/50\n",
      "1000/1000 [==============================] - 0s 46us/step - loss: 0.0905\n",
      "Epoch 39/50\n",
      "1000/1000 [==============================] - 0s 53us/step - loss: 0.0870\n",
      "Epoch 40/50\n",
      "1000/1000 [==============================] - 0s 68us/step - loss: 0.0860\n",
      "Epoch 41/50\n",
      "1000/1000 [==============================] - 0s 50us/step - loss: 0.0839\n",
      "Epoch 42/50\n",
      "1000/1000 [==============================] - 0s 44us/step - loss: 0.0822\n",
      "Epoch 43/50\n",
      "1000/1000 [==============================] - 0s 46us/step - loss: 0.0794\n",
      "Epoch 44/50\n",
      "1000/1000 [==============================] - 0s 48us/step - loss: 0.0789\n",
      "Epoch 45/50\n",
      "1000/1000 [==============================] - 0s 57us/step - loss: 0.0780\n",
      "Epoch 46/50\n",
      "1000/1000 [==============================] - 0s 83us/step - loss: 0.0752\n",
      "Epoch 47/50\n",
      "1000/1000 [==============================] - 0s 49us/step - loss: 0.0745\n",
      "Epoch 48/50\n",
      "1000/1000 [==============================] - 0s 54us/step - loss: 0.0764\n",
      "Epoch 49/50\n",
      "1000/1000 [==============================] - 0s 61us/step - loss: 0.0735\n",
      "Epoch 50/50\n",
      "1000/1000 [==============================] - 0s 69us/step - loss: 0.0712\n"
     ]
    }
   ],
   "source": [
    "results = model.fit(X_train, y_train, epochs=50, batch_size=10)"
   ]
  },
  {
   "cell_type": "code",
   "execution_count": 13,
   "metadata": {},
   "outputs": [
    {
     "data": {
      "text/plain": [
       "[<matplotlib.lines.Line2D at 0x7fa0170f0e48>]"
      ]
     },
     "execution_count": 13,
     "metadata": {},
     "output_type": "execute_result"
    },
    {
     "data": {
      "image/png": "[encoded data removed]",
      "text/plain": [
       "<Figure size 432x288 with 1 Axes>"
      ]
     },
     "metadata": {},
     "output_type": "display_data"
    }
   ],
   "source": [
    "plt.plot(results.history['loss'])"
   ]
  },
  {
   "cell_type": "code",
   "execution_count": 14,
   "metadata": {},
   "outputs": [],
   "source": [
    "X_test = scipy.randn(1000, 2)"
   ]
  },
  {
   "cell_type": "code",
   "execution_count": 15,
   "metadata": {},
   "outputs": [],
   "source": [
    "y_test = model.predict(X_test)"
   ]
  },
  {
   "cell_type": "code",
   "execution_count": 16,
   "metadata": {},
   "outputs": [
    {
     "data": {
      "text/plain": [
       "(1000, 2)"
      ]
     },
     "execution_count": 16,
     "metadata": {},
     "output_type": "execute_result"
    }
   ],
   "source": [
    "y_test.shape"
   ]
  },
  {
   "cell_type": "code",
   "execution_count": 17,
   "metadata": {},
   "outputs": [
    {
     "data": {
      "text/plain": [
       "<matplotlib.collections.PathCollection at 0x7fa016dd6cf8>"
      ]
     },
     "execution_count": 17,
     "metadata": {},
     "output_type": "execute_result"
    },
    {
     "data": {
      "image/png": "[encoded data removed]",
      "text/plain": [
       "<Figure size 432x288 with 1 Axes>"
      ]
     },
     "metadata": {},
     "output_type": "display_data"
    }
   ],
   "source": [
    "plt.scatter(X_test[y_test[:, 0] < 0.5,0], X_test[y_test[:, 0] < 0.5,1], c='r')\n",
    "plt.scatter(X_test[y_test[:, 0] > 0.5,0], X_test[y_test[:, 0] > 0.5,1], c='b')"
   ]
  },
  {
   "cell_type": "code",
   "execution_count": 18,
   "metadata": {},
   "outputs": [],
   "source": [
    "from keras.regularizers import l1, l2, Regularizer"
   ]
  },
  {
   "cell_type": "code",
   "execution_count": 25,
   "metadata": {},
   "outputs": [
    {
     "ename": "NameError",
     "evalue": "name 'AutoEncoder' is not defined",
     "output_type": "error",
     "traceback": [
      "\u001b[0;31m---------------------------------------------------------------------------\u001b[0m",
      "\u001b[0;31mNameError\u001b[0m                                 Traceback (most recent call last)",
      "\u001b[0;32m<ipython-input-25-b64eb4bfae60>\u001b[0m in \u001b[0;36m<module>\u001b[0;34m()\u001b[0m\n\u001b[1;32m      1\u001b[0m \u001b[0mmodel\u001b[0m \u001b[0;34m=\u001b[0m \u001b[0mSequential\u001b[0m\u001b[0;34m(\u001b[0m\u001b[0;34m)\u001b[0m\u001b[0;34m\u001b[0m\u001b[0m\n\u001b[0;32m----> 2\u001b[0;31m model.add(AutoEncoder(\n\u001b[0m\u001b[1;32m      3\u001b[0m         encoder=containers.Sequential([\n\u001b[1;32m      4\u001b[0m                 \u001b[0;31m#Dense(1025, 1000, activation='relu', activity_regularizer=ActivityRegularizer(l1=0.1)),\u001b[0m\u001b[0;34m\u001b[0m\u001b[0;34m\u001b[0m\u001b[0m\n\u001b[1;32m      5\u001b[0m                 \u001b[0mDense\u001b[0m\u001b[0;34m(\u001b[0m\u001b[0;36m1025\u001b[0m\u001b[0;34m,\u001b[0m \u001b[0;36m1000\u001b[0m\u001b[0;34m,\u001b[0m \u001b[0mactivation\u001b[0m\u001b[0;34m=\u001b[0m\u001b[0;34m'relu'\u001b[0m\u001b[0;34m)\u001b[0m\u001b[0;34m,\u001b[0m\u001b[0;34m\u001b[0m\u001b[0m\n",
      "\u001b[0;31mNameError\u001b[0m: name 'AutoEncoder' is not defined"
     ]
    }
   ],
   "source": [
    "model = Sequential()\n",
    "model.add(AutoEncoder(\n",
    "        encoder=containers.Sequential([\n",
    "                #Dense(1025, 1000, activation='relu', activity_regularizer=ActivityRegularizer(l1=0.1)), \n",
    "                Dense(1025, 1000, activation='relu'), \n",
    "                #Dropout(0.7),\n",
    "                Dense(1000, 30, activation='relu')\n",
    "            ]),\n",
    "        decoder=containers.Sequential([\n",
    "                Dense(30, 1000, activation='relu'), \n",
    "                #Dropout(0.7),\n",
    "                Dense(1000, 1025, activation='relu')\n",
    "            ]),\n",
    "        output_reconstruction=False))"
   ]
  },
  {
   "cell_type": "code",
   "execution_count": null,
   "metadata": {},
   "outputs": [],
   "source": [
    "optimizer = keras.optimizers.SGD(lr=1.7)\n",
    "model.compile(loss='mae', optimizer=optimizer)"
   ]
  },
  {
   "cell_type": "code",
   "execution_count": null,
   "metadata": {},
   "outputs": [],
   "source": [
    "x, fs = librosa.load('../tmp/bach.wav', duration=10, offset=5, sr=44100)"
   ]
  },
  {
   "cell_type": "code",
   "execution_count": null,
   "metadata": {},
   "outputs": [],
   "source": [
    "IPython.display.Audio(x, rate=fs)"
   ]
  },
  {
   "cell_type": "code",
   "execution_count": null,
   "metadata": {},
   "outputs": [],
   "source": [
    "n_fft = 2048\n",
    "hop_length = 512\n",
    "S = librosa.stft(x, n_fft=n_fft, hop_length=hop_length)\n",
    "X = numpy.absolute(S).T\n",
    "X.shape"
   ]
  },
  {
   "cell_type": "code",
   "execution_count": null,
   "metadata": {},
   "outputs": [],
   "source": [
    "results = model.fit(X, X, nb_epoch=1000, batch_size=10)"
   ]
  },
  {
   "cell_type": "code",
   "execution_count": null,
   "metadata": {},
   "outputs": [],
   "source": [
    "plt.plot(results.history['loss'])"
   ]
  },
  {
   "cell_type": "code",
   "execution_count": null,
   "metadata": {},
   "outputs": [],
   "source": [
    "y = model.predict(X)"
   ]
  },
  {
   "cell_type": "code",
   "execution_count": null,
   "metadata": {},
   "outputs": [],
   "source": [
    "y.shape"
   ]
  },
  {
   "cell_type": "code",
   "execution_count": null,
   "metadata": {},
   "outputs": [],
   "source": [
    "librosa.display.specshow(y.T)"
   ]
  },
  {
   "cell_type": "code",
   "execution_count": 24,
   "metadata": {},
   "outputs": [],
   "source": [
    "class Layer(object):\n",
    "    \n",
    "    x = th.tensor.dvector('x')\n",
    "    W = th.tensor.dmatrix('W')\n",
    "    b = th.tensor.dvector('b')\n",
    "    z = th.tensor.dot(W, x) + b\n",
    "    a = th.tensor.nnet.sigmoid(z)\n",
    "    sigmoid = th.function([x, W, b], a)\n",
    "    \n",
    "    def __init__(self, neurons_in, neurons_out):\n",
    "        self.neurons_in = neurons_in\n",
    "        self.neurons_out = neurons_out\n",
    "        self.W = 0.1*scipy.randn(neurons_out, neurons_in)\n",
    "        self.b = 0.1*scipy.randn(neurons_out)\n",
    "        self.d_W = scipy.zeros_like(self.W)\n",
    "        self.d_b = scipy.zeros_like(self.b)\n",
    "    \n",
    "    def forward(self, x):\n",
    "        return self.sigmoid(x, self.W, self.b)\n",
    "    \n",
    "    def backward(self, y):\n",
    "        return sigmoid(self.W.T.dot(y))\n",
    "    \n",
    "    def contrastive_divergence(self, x):\n",
    "        h = self.forward(x)"
   ]
  },
  {
   "cell_type": "code",
   "execution_count": null,
   "metadata": {},
   "outputs": [],
   "source": [
    "th.pp(Layer.a)"
   ]
  },
  {
   "cell_type": "code",
   "execution_count": null,
   "metadata": {},
   "outputs": [],
   "source": [
    "layer0 = Layer(3, 2)\n",
    "layer0.W = scipy.randn(2, 3)\n",
    "layer0.b = scipy.randn(2)\n",
    "X = scipy.rand(10, 3)\n",
    "y = [layer0.forward(x) for x in X]"
   ]
  },
  {
   "cell_type": "code",
   "execution_count": null,
   "metadata": {},
   "outputs": [],
   "source": [
    "print (X)\n",
    "print (y)\n",
    "print (layer0.forward(X[0]))\n",
    "print (layer0.W)"
   ]
  },
  {
   "cell_type": "code",
   "execution_count": null,
   "metadata": {},
   "outputs": [],
   "source": [
    "layer = Layer(3, 2)"
   ]
  },
  {
   "cell_type": "code",
   "execution_count": null,
   "metadata": {},
   "outputs": [],
   "source": [
    "x = [1, 0, 1]\n",
    "y = [1, 1]\n",
    "W0 = scipy.array([[]])\n",
    "a = layer.forward(x)\n",
    "print (a)\n",
    "print (scipy.inner(y-a, y-a))"
   ]
  },
  {
   "cell_type": "code",
   "execution_count": null,
   "metadata": {},
   "outputs": [],
   "source": [
    "delta = -(y - a)*a*(1 - a)\n",
    "print (delta)"
   ]
  },
  {
   "cell_type": "code",
   "execution_count": null,
   "metadata": {},
   "outputs": [],
   "source": [
    "alpha = 10\n",
    "max_iter = 1000\n",
    "r = scipy.zeros(max_iter)\n",
    "iters = range(max_iter)\n",
    "for iter in iters:\n",
    "    d_W = scipy.outer(delta, x)\n",
    "    d_b = delta\n",
    "    layer.W -= alpha*d_W\n",
    "    layer.b -= alpha*d_b\n",
    "    a = layer.forward(x)\n",
    "    delta = -(y - a)*a*(1 - a)\n",
    "    r[iter] = scipy.linalg.norm(y-a)\n",
    "plt.semilogy(iters, r)"
   ]
  },
  {
   "cell_type": "code",
   "execution_count": 23,
   "metadata": {},
   "outputs": [],
   "source": [
    "class Feedforward(object):\n",
    "    \n",
    "    def __init__(self, n_neurons):\n",
    "        self.num_layers = len(n_neurons)\n",
    "        self.layers = [\n",
    "            Layer(n_neurons[i], n_neurons[i+1]) \n",
    "            for i in range(self.num_layers - 1)\n",
    "        ]\n",
    "\n",
    "    def forward(self, x, start_layer=None, end_layer=None):\n",
    "        A = [x]\n",
    "        a = x\n",
    "        for layer in self.layers[start_layer:end_layer]:\n",
    "            a = layer.forward(a)\n",
    "            A.append(a)\n",
    "        return A\n",
    "\n",
    "    def train(self, X, y, alpha=1, max_iter=10):\n",
    "        for iter in range(max_iter):\n",
    "            self.train_step(X, y, alpha)\n",
    "\n",
    "    def train_step(self, X, y, alpha=1):\n",
    "        for x in X:\n",
    "            A = self.forward(x)\n",
    "            delta = y - a\n",
    "            for layer, a in zip(self.layers[::-1], A[::-1]):\n",
    "                layer.W += alpha*delta*a\n",
    "                layer.b -= alpha*delta\n",
    "                delta = scipy.dot(layer.W.T, delta)\n",
    "                    \n",
    "    def encode_decode(self, x):\n",
    "        return self.forward(x)[-1]\n",
    "    \n",
    "    def encode(self, x):\n",
    "        return self.forward(x, end_layer=self.num_layers/2)[-1]\n",
    "    \n",
    "    def decode(self, y):\n",
    "        return self.forward(y, start_layer=self.num_layers/2)[-1]"
   ]
  },
  {
   "cell_type": "code",
   "execution_count": null,
   "metadata": {},
   "outputs": [],
   "source": [
    "X = [[0, 1], [1, 0], [0, 0], [1, 1]]\n",
    "y = [1, 1, 0, 0]"
   ]
  },
  {
   "cell_type": "code",
   "execution_count": null,
   "metadata": {},
   "outputs": [],
   "source": [
    "model = Feedforward([2, 1])\n",
    "model.train(X, y)"
   ]
  },
  {
   "cell_type": "code",
   "execution_count": 22,
   "metadata": {},
   "outputs": [],
   "source": [
    "class SimpleAutoencoder(object):\n",
    "    \n",
    "    def __init__(self, n_neurons):\n",
    "        self.layer_0 = Layer(n_neurons[0], n_neurons[1])\n",
    "        self.layer_1 = Layer(n_neurons[1], n_neurons[0])\n",
    "\n",
    "    def forward(self, x):\n",
    "        a1 = self.layer_0.forward(x)\n",
    "        a2 = self.layer_1.forward(a1)\n",
    "        return [x, a1, a2]\n",
    "\n",
    "    def train(self, X, alpha=1, lamb=0, max_iter=10):\n",
    "        for iter in range(max_iter):\n",
    "            self.train_step(X, alpha, lamb)\n",
    "\n",
    "    def train_step(self, X, alpha=1, lamb=0):\n",
    "        m = len(X)\n",
    "        for x in X:\n",
    "            A = self.forward(x)\n",
    "            delta = -(x - A[2])*A[2]*(1 - A[2])\n",
    "            \n",
    "            self.layer_1.d_W += scipy.outer(delta, A[1])\n",
    "            self.layer_1.d_b += delta\n",
    "            self.layer_1.W -= alpha*((1/m)*self.layer_1.d_W + lamb*self.layer_1.W)\n",
    "            self.layer_1.b -= (alpha/m)*self.layer_1.d_b\n",
    "            delta = scipy.dot(self.layer_1.W.T, delta)*A[1]*(1 - A[1])\n",
    "\n",
    "            self.layer_0.d_W += scipy.outer(delta, A[0])\n",
    "            self.layer_0.d_b += delta\n",
    "            self.layer_0.W -= alpha*((1/m)*self.layer_0.d_W + lamb*self.layer_0.W)\n",
    "            self.layer_0.b -= (alpha/m)*self.layer_0.d_b\n",
    "            \n",
    "    def encode_decode(self, x):\n",
    "        return self.forward(x)[-1]\n",
    "    \n",
    "    def encode(self, x):\n",
    "        return self.layer_0.forward(x)\n",
    "    \n",
    "    def decode(self, y):\n",
    "        return self.layer_1.forward(y)"
   ]
  },
  {
   "cell_type": "code",
   "execution_count": null,
   "metadata": {},
   "outputs": [],
   "source": [
    "Z = scipy.random.randint(0, 2, (100, 3))\n",
    "print (Z)"
   ]
  },
  {
   "cell_type": "code",
   "execution_count": null,
   "metadata": {},
   "outputs": [],
   "source": [
    "X = Z.dot(0.3*scipy.rand(3, 5))\n",
    "print (X.shape)\n",
    "print (X)"
   ]
  },
  {
   "cell_type": "code",
   "execution_count": null,
   "metadata": {},
   "outputs": [],
   "source": [
    "sae = SimpleAutoencoder([5, 3])\n",
    "sae.train(X, alpha=0.1, lamb=0.01, max_iter=20)"
   ]
  },
  {
   "cell_type": "code",
   "execution_count": null,
   "metadata": {},
   "outputs": [],
   "source": [
    "sae.layer_0.W"
   ]
  },
  {
   "cell_type": "code",
   "execution_count": null,
   "metadata": {},
   "outputs": [],
   "source": [
    "sae.layer_0.b"
   ]
  },
  {
   "cell_type": "code",
   "execution_count": null,
   "metadata": {},
   "outputs": [],
   "source": [
    "x = scipy.rand(5)\n",
    "print (x)"
   ]
  },
  {
   "cell_type": "code",
   "execution_count": null,
   "metadata": {},
   "outputs": [],
   "source": [
    "sae.encode(x)"
   ]
  },
  {
   "cell_type": "code",
   "execution_count": null,
   "metadata": {},
   "outputs": [],
   "source": [
    "sae.train_step(X, alpha=0.001, lamb=0.0)\n",
    "y = sae.encode_decode(x)\n",
    "print (y)\n",
    "print (scipy.inner(y-x, y-x))"
   ]
  },
  {
   "cell_type": "code",
   "execution_count": 21,
   "metadata": {},
   "outputs": [],
   "source": [
    "class Autoencoder(object):\n",
    "    \n",
    "    def __init__(self, n_neurons):\n",
    "        n_neurons = n_neurons + n_neurons[-2::-1]\n",
    "        self.num_layers = len(n_neurons)\n",
    "        self.layers = [\n",
    "            Layer(n_neurons[i], n_neurons[i+1]) \n",
    "            for i in range(self.num_layers - 1)\n",
    "        ]\n",
    "\n",
    "    def forward(self, x, start_layer=None, end_layer=None):\n",
    "        A = [x]\n",
    "        a = x\n",
    "        for layer in self.layers[start_layer:end_layer]:\n",
    "            a, z = layer.forward(a)\n",
    "            A.append(a)\n",
    "        return A\n",
    "\n",
    "    def train(self, X, alpha=1, max_iter=10):\n",
    "        for iter in range(max_iter):\n",
    "            self.train_step(X, alpha)\n",
    "\n",
    "    def train_step(self, X, alpha=1):\n",
    "        c = alpha/len(X)\n",
    "        for x in X:\n",
    "            A = self.forward(x)\n",
    "            delta = -(x - A[-1])*A[-1]*(1 - A[-1])\n",
    "            for layer, a in zip(self.layers[::-1], A[-2::-1]):\n",
    "                layer.d_W += scipy.outer(delta, a)\n",
    "                layer.d_b += delta\n",
    "                layer.W -= c*layer.d_W\n",
    "                layer.b -= c*layer.d_b\n",
    "                delta = scipy.dot(layer.W.T, delta)*a*(1-a)\n",
    "                    \n",
    "    def encode_decode(self, x):\n",
    "        return self.forward(x)[-1]\n",
    "    \n",
    "    def encode(self, x):\n",
    "        return self.forward(x, end_layer=self.num_layers/2)[-1]\n",
    "    \n",
    "    def decode(self, y):\n",
    "        return self.forward(y, start_layer=self.num_layers/2)[-1]"
   ]
  },
  {
   "cell_type": "code",
   "execution_count": 26,
   "metadata": {},
   "outputs": [],
   "source": [
    "AE = Autoencoder([10, 5, 3])"
   ]
  },
  {
   "cell_type": "code",
   "execution_count": null,
   "metadata": {},
   "outputs": [],
   "source": [
    "X = scipy.rand(100, 10)\n",
    "AE.train(X)"
   ]
  },
  {
   "cell_type": "code",
   "execution_count": null,
   "metadata": {},
   "outputs": [],
   "source": [
    "x = scipy.rand(10)\n",
    "print (x)"
   ]
  },
  {
   "cell_type": "code",
   "execution_count": null,
   "metadata": {},
   "outputs": [],
   "source": [
    "y = AE.encode(x)\n",
    "print (y)"
   ]
  },
  {
   "cell_type": "code",
   "execution_count": null,
   "metadata": {},
   "outputs": [],
   "source": [
    "print (AE.decode(y))"
   ]
  },
  {
   "cell_type": "code",
   "execution_count": null,
   "metadata": {},
   "outputs": [],
   "source": [
    "print (AE.encode_decode(x))"
   ]
  },
  {
   "cell_type": "code",
   "execution_count": null,
   "metadata": {},
   "outputs": [],
   "source": [
    "AE.train_step(X)\n",
    "print (AE.encode(x))"
   ]
  }
 ],
 "metadata": {
  "kernelspec": {
   "display_name": "Python 3",
   "language": "python",
   "name": "python3"
  },
  "language_info": {
   "codemirror_mode": {
    "name": "ipython",
    "version": 3
   },
   "file_extension": ".py",
   "mimetype": "text/x-python",
   "name": "python",
   "nbconvert_exporter": "python",
   "pygments_lexer": "ipython3",
   "version": "3.6.6"
  }
 },
 "nbformat": 4,
 "nbformat_minor": 2
}
